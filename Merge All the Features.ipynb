{
 "cells": [
  {
   "cell_type": "code",
   "execution_count": 3,
   "metadata": {},
   "outputs": [],
   "source": [
    "import pandas as pd\n",
    "import numpy as np\n",
    "import pickle"
   ]
  },
  {
   "cell_type": "code",
   "execution_count": 7,
   "metadata": {},
   "outputs": [],
   "source": [
    "def saveObject(obj,name): \n",
    "    pickle.dump(obj,open( \"repo/\"+name+\".pkl\", \"wb\" ))\n",
    "\n",
    "def loadObject(name):\n",
    "    obj = pickle.load( open( \"repo/\"+name+\".pkl\", \"rb\" ) )\n",
    "    return obj"
   ]
  },
  {
   "cell_type": "code",
   "execution_count": 48,
   "metadata": {},
   "outputs": [],
   "source": [
    "# Read the File\n",
    "Location = \"/home/sp/nlpfinal/Syntactic_Feature/\"\n",
    "\n",
    "#/home/sp/nlpfinal/Syntactic_Feature/bitgcseSyntacticFeature.csv\n",
    "#/home/sp/nlpfinal/Syntactic_Feature/bitks3SyntacticFeature.csv\n",
    "#/home/sp/nlpfinal/Syntactic_Feature/wr2SyntacticFeature.csv\n",
    "#/home/sp/nlpfinal/Syntactic_Feature/wr3SyntacticFeature.csv\n",
    "#/home/sp/nlpfinal/Syntactic_Feature/wr4SyntacticFeature.csv\n",
    "\n",
    "# /home/sp/nlpfinal/repo/lexgcse.pkl\n",
    "# /home/sp/nlpfinal/repo/lexks3.pkl\n",
    "# /home/sp/nlpfinal/repo/lexWR2.pkl\n",
    "# /home/sp/nlpfinal/repo/lexWR3.pkl\n",
    "# /home/sp/nlpfinal/repo/lexWR4.pkl\n",
    "\n",
    "# bitgcseSyntacticFeature, BitKS3SyntacticFeature, WR2SyntacticFeature, WR3SyntacticFeature, WR4SyntacticFeature\n",
    "fileName = \"bitgcseSyntacticFeature\" + \".csv\""
   ]
  },
  {
   "cell_type": "code",
   "execution_count": 49,
   "metadata": {},
   "outputs": [],
   "source": [
    "file = pd.read_csv(Location+fileName)\n",
    "featuress = loadObject(\"lexgcse\")\n",
    "#saveObject(lexWR3,\"lexWR3\")\n",
    "#saveObject(lexWR4,\"lexWR4\")\n",
    "# saveObject(lexbitks3,\"lexks3\")\n",
    "# saveObject(lexbitgcse,\"lexgcse\")"
   ]
  },
  {
   "cell_type": "code",
   "execution_count": 50,
   "metadata": {},
   "outputs": [],
   "source": [
    "keyList = list(featuress.keys())\n",
    "hei = len(featuress.keys())\n",
    "wid = len(file)"
   ]
  },
  {
   "cell_type": "code",
   "execution_count": 51,
   "metadata": {},
   "outputs": [],
   "source": [
    "nparr = np.zeros([hei,wid])"
   ]
  },
  {
   "cell_type": "code",
   "execution_count": 52,
   "metadata": {},
   "outputs": [],
   "source": [
    "fname = file[\"Filename\"]\n",
    "for key in keyList:\n",
    "    featureDict = featuress[key]\n",
    "    valueHolder = np.zeros(len(featureDict))\n",
    "    i = 0\n",
    "    for nameofF in fname:\n",
    "        valueHolder[i] = featureDict[nameofF]\n",
    "        i += 1\n",
    "    file[key] = valueHolder"
   ]
  },
  {
   "cell_type": "code",
   "execution_count": 53,
   "metadata": {},
   "outputs": [],
   "source": [
    "fileName = \"lex\" + fileName \n",
    "file.to_csv(fileName)"
   ]
  },
  {
   "cell_type": "code",
   "execution_count": null,
   "metadata": {},
   "outputs": [],
   "source": []
  }
 ],
 "metadata": {
  "kernelspec": {
   "display_name": "Python 3",
   "language": "python",
   "name": "python3"
  },
  "language_info": {
   "codemirror_mode": {
    "name": "ipython",
    "version": 3
   },
   "file_extension": ".py",
   "mimetype": "text/x-python",
   "name": "python",
   "nbconvert_exporter": "python",
   "pygments_lexer": "ipython3",
   "version": "3.6.4"
  }
 },
 "nbformat": 4,
 "nbformat_minor": 2
}
