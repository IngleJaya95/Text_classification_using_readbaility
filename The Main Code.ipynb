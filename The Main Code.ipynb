{
 "cells": [
  {
   "cell_type": "code",
   "execution_count": 1,
   "metadata": {},
   "outputs": [],
   "source": [
    "import pandas as pd\n",
    "import numpy as np\n",
    "from sklearn import svm\n",
    "from sklearn import linear_model\n",
    "from sklearn.preprocessing import StandardScaler\n",
    "from sklearn.neural_network import MLPClassifier\n",
    "import matplotlib.pyplot as plt"
   ]
  },
  {
   "cell_type": "code",
   "execution_count": 2,
   "metadata": {},
   "outputs": [],
   "source": [
    "def divideData(fframe):\n",
    "#     X,Y = np.where(np.isnan(fframe))\n",
    "#         for x,y in zip(X,Y):\n",
    "#     fframe.iloc[x,y] = 0\n",
    "    trp = fframe.iloc[:500]\n",
    "    tsp = fframe.iloc[500:600]\n",
    "    vp = fframe.iloc[600:629]\n",
    "    \n",
    "    return trp,tsp,vp"
   ]
  },
  {
   "cell_type": "code",
   "execution_count": 140,
   "metadata": {},
   "outputs": [],
   "source": [
    "# ['MLS', Mean Lenght of Sentence\n",
    "#  'MLT', Mean Lenght of T units\n",
    "#  'MLC', Mean Lenght of Clauses\n",
    "#  'C/S', Clause per T Sentence\n",
    "#  'VP/T',Verb Prase per T unit\n",
    "#  'C/T', Clause per T unit\n",
    "#  'DC/C', Dependent Clause per Clause\n",
    "#  'DC/T', Dependent Clause per T unit\n",
    "#  'T/S', T unit per Sentence\n",
    "#  'CT/T', Complex T unit per Sentence\n",
    "#  'CP/T', Co-ordinate Phrase per T Unit\n",
    "#  'CP/C', Co-ordinate Phrase per Clause\n",
    "#  'CN/T', Complex Nominal per T unit\n",
    "#  'CN/C', Complex Nominal Per Clause\n",
    "#  'DC/S', Dependent Clause per Sentence\n",
    "#  'CT/S', Complex T-unit Per Sentence\n",
    "#  'CP/S', Co-ordinate Phrase per Sentence\n",
    "#  'L1/S', CEFR Language level1\n",
    "#  'L2/S', CEFR Language level2\n",
    "#  'L3/S', CEFR Language level3\n",
    "#  'L4/S', CEFR Language level4\n",
    "#  'L5/S', CEFR Language level5\n",
    "#  'L6/S', CEFR Language level6\n",
    "#  'VP/S', Verb Phrase per Sentence\n",
    "#  'NP/S', Noun Phrase per Sentence\n",
    "#  'PP/S', Para Phrase per Sentence\n",
    "#  'Avg_NP', Avg Noun Phrase Length\n",
    "#  'Avg_PP', Avg Preposition Phrase Length\n",
    "#  'Avg_VP', Avg Verb Phrase Length\n",
    "#  'Sbar/S', Subordinate Clause Per Sentence\n",
    "#  'treeH/S', Avg Parse Tree Height per Sentence\n",
    "#  'letter/W', no of letter per Word\n",
    "#  'NV', Noun Variation\n",
    "#  'VV1', Verb Variation 1\n",
    "#  'svv', Squared Verb Variation\n",
    "#  'cvv', Corrected Verb Variation\n",
    "#  'advvv', Adverb Verb Varaition\n",
    "#  'adjvv', Adjactive Verb Variation\n",
    "#  'LD', Lexical Density\n",
    "#  'ttr', Type tokken ration\n",
    "#  'rttr', root type tokken Ratio\n",
    "#  'cttr', Corrected Type Tokken Ration\n",
    "#  'bttr', Bi logrithmic Type tokken Ration\n",
    "#  'uber', Uber Index\n",
    "#  'awlF', Academic Word List\n",
    "#  'ari', Automated Readability Index\n",
    "#  'aspw', Average Syllable per word\n",
    "#  'cole_l_i', coleman Leua Index\n",
    "#  'dale_c_r', dale_chall_readability_score\n",
    "#  'diff_w', difficult_words\n",
    "#  'flesch_k_g', flesch_kincaid_grade\n",
    "#  'flesch_e_r', flesch_reading_ease\n",
    "#  'gun_fog', gunning_fog\n",
    "#  'lexi_c', lexicon_count\n",
    "#  'linsear_w', linsear_write_formula\n",
    "#  'li_x', lix\n",
    "#  'modvvv'] modifier Varition\n",
    "\n",
    "dnl = ['awlF'] #Since can't be empty\n",
    "\n",
    "def setCreator(fframe):\n",
    "    \n",
    "    # Syntax\n",
    "    SLASyntax = fframe[list(fframe)[:14] ]\n",
    "    otherSyntax = fframe[list(fframe)[14:17] + list(fframe)[23:31]]\n",
    "    totalSyntax = fframe[list(fframe)[:17] + list(fframe)[23:31]]\n",
    "    \n",
    "    # Difficult Word\n",
    "    diffWord = fframe[list(fframe)[17:23] ]\n",
    "    \n",
    "    # Traditional Features\n",
    "    tradfea=['MLS','aspw','letter/W']\n",
    "    traditionalFeatures = fframe[tradfea]\n",
    "    \n",
    "    \n",
    "    # Traditional Formulas\n",
    "    trf = ['flesch_k_g','cole_l_i']\n",
    "    traditionalFormulas = fframe[trf]\n",
    "    \n",
    "    \n",
    "    \n",
    "    tradionalData = fframe[trf+tradfea]\n",
    "    \n",
    "    #OtherFormula\n",
    "    of = ['ari','dale_c_r','diff_w','flesch_e_r','gun_fog','lexi_c','linsear_w','li_x']\n",
    "    otherFormula = fframe[of]\n",
    "    \n",
    "    #onlyFormulas\n",
    "    onlyFormulas = fframe[trf+of]\n",
    "    \n",
    "    #SLALexicalFeatures\n",
    "    lexf = ['NV','VV1','svv','cvv','advvv','adjvv','LD','ttr','rttr','cttr','bttr','uber','modvvv']\n",
    "    lexicalFeatures = fframe[(list(fframe))[32:45]]\n",
    "    \n",
    "    olex = ['letter/W','awlF','aspw']\n",
    "    otherLexF = fframe[olex]\n",
    "    \n",
    "    totLexF = fframe[olex + lexf]\n",
    "    \n",
    "    \n",
    "    #ALLThem\n",
    "    ttsyntx = list(fframe)[:17] + list(fframe)[23:31]\n",
    "    \n",
    "    allthemF = ttsyntx + olex + lexf \n",
    "    print(allthemF)\n",
    "    totalF = fframe[allthemF]\n",
    "    \n",
    "    daloNikalo = fframe[dnl] #Since Can't be empty\n",
    "    return [fframe,daloNikalo,SLASyntax,otherSyntax,totalSyntax,diffWord,traditionalFeatures,traditionalFormulas,tradionalData,otherFormula,onlyFormulas,lexicalFeatures,otherLexF,totLexF,totalF]\n",
    "#SLA #Best10Syn, #Best10Lex, AllLexical, Best10All\n",
    "\n",
    "\n",
    "#list(tr)"
   ]
  },
  {
   "cell_type": "code",
   "execution_count": 141,
   "metadata": {},
   "outputs": [],
   "source": [
    "def trainVal(model,WholeData,WholeLabels):\n",
    "    trData = WholeData[0]\n",
    "    valData = WholeData[1]\n",
    "    tsData = WholeData[2]\n",
    "    \n",
    "    trLabel = WholeLabels[0]\n",
    "    valLabel = WholeLabels[1]\n",
    "    \n",
    "    scaler = StandardScaler()\n",
    "    # Normalization : http://scikit-learn.org/stable/modules/generated/sklearn.preprocessing.StandardScaler.html\n",
    "    trData = scaler.fit_transform(trData)\n",
    "    tsData = scaler.transform(tsData)\n",
    "    valData = scaler.transform(valData)\n",
    "\n",
    "    # Fitting the Model\n",
    "    model.fit(trData, trLabel)\n",
    "    \n",
    "    # Predicting the Accuracy on the train Data\n",
    "    predictValue=model.predict(trData)\n",
    "    trAcc = sum(predictValue == trLabel)/(len(trData))\n",
    "    \n",
    "    # Predicting the Accuracy on the Validation Data\n",
    "    predictValue=model.predict(valData)\n",
    "    valAcc = sum(predictValue == valLabel)/(len(valData))\n",
    "    \n",
    "    #No attempt for testing here. Leaved it for the latter part.\n",
    "    return (model,trAcc,valAcc,tsData)"
   ]
  },
  {
   "cell_type": "code",
   "execution_count": 142,
   "metadata": {},
   "outputs": [],
   "source": [
    "def cleanIt(fframe):\n",
    "    del fframe['Unnamed: 0']\n",
    "    #del fframe['Unnamed: 0.1']\n",
    "    del fframe[\"W/S\"]\n",
    "    del fframe[\"W\"]\n",
    "    del fframe[\"S\"]\n",
    "    del fframe[\"VP\"]\n",
    "    del fframe[\"C\"]\n",
    "    del fframe[\"T\"]\n",
    "    del fframe[\"CT\"]\n",
    "    del fframe[\"CP\"]\n",
    "    del fframe[\"CN\"]\n",
    "    del fframe[\"Filename\"]\n",
    "    del fframe[\"DC\"]\n",
    "    #del fframe[\"aspw\"]\n",
    "    del fframe[\"Syl/W\"]\n",
    "    fframe[\"modvvv\"] = fframe['advvv']+fframe['adjvv']\n",
    "    return fframe"
   ]
  },
  {
   "cell_type": "code",
   "execution_count": 143,
   "metadata": {},
   "outputs": [
    {
     "data": {
      "text/plain": [
       "7615"
      ]
     },
     "execution_count": 143,
     "metadata": {},
     "output_type": "execute_result"
    }
   ],
   "source": [
    "#Reading the files\n",
    "c1 = pd.read_csv(\"ffff/lexwr2SyntacticFeature.csv\")\n",
    "c2 = pd.read_csv(\"ffff/lexwr3SyntacticFeature.csv\")\n",
    "c3 = pd.read_csv(\"ffff/lexwr4SyntacticFeature.csv\")\n",
    "c4 = pd.read_csv(\"ffff/lexbitks3SyntacticFeature.csv\")\n",
    "c5 = pd.read_csv(\"ffff/lexbitgcseSyntacticFeature.csv\")\n",
    "len(c5)\n",
    "# /home/sp/nlpfinal/All_Features/lexbitgcseSyntacticFeature.csv\n",
    "# /home/sp/nlpfinal/All_Features/lexbitks3SyntacticFeature.csv\n",
    "# /home/sp/nlpfinal/All_Features/lexwr2SyntacticFeature.csv\n",
    "# /home/sp/nlpfinal/All_Features/lexwr3SyntacticFeature.csv\n",
    "# /home/sp/nlpfinal/All_Features/lexwr4SyntacticFeature.csv"
   ]
  },
  {
   "cell_type": "code",
   "execution_count": 144,
   "metadata": {},
   "outputs": [],
   "source": [
    "c1[\"class\"] = 1\n",
    "c2[\"class\"] = 2\n",
    "c3[\"class\"] = 3\n",
    "c4[\"class\"] = 4\n",
    "c5[\"class\"] = 5"
   ]
  },
  {
   "cell_type": "code",
   "execution_count": 145,
   "metadata": {},
   "outputs": [],
   "source": [
    "tr1, ts1, v1 = divideData(c1)\n",
    "tr2, ts2, v2 = divideData(c2)\n",
    "tr3, ts3, v3 = divideData(c3)\n",
    "tr4, ts4, v4 = divideData(c4)\n",
    "tr5, ts5, v5 = divideData(c5)\n",
    "\n",
    "# Merging Pandas Dataframes : https://pandas.pydata.org/pandas-docs/stable/merging.html\n",
    "tr = [tr1,tr2,tr3,tr4,tr5]\n",
    "tr = pd.concat(tr)\n",
    "ts = [ts1,ts2,ts3,ts4,ts5]\n",
    "ts = pd.concat(ts)\n",
    "v = [v1,v2,v3,v4,v5]\n",
    "v = pd.concat(v)\n",
    "\n",
    "tr = cleanIt(tr)\n",
    "ts = cleanIt(ts)\n",
    "v = cleanIt(v)\n",
    "\n",
    "trainLabel = tr[\"class\"]\n",
    "valLabel = v[\"class\"]\n",
    "testLabel = ts[\"class\"]\n",
    "\n",
    "del tr[\"class\"]\n",
    "del ts[\"class\"]\n",
    "del v[\"class\"]\n",
    "\n",
    "\n",
    "Wholelabels = [trainLabel,valLabel,testLabel]"
   ]
  },
  {
   "cell_type": "code",
   "execution_count": 146,
   "metadata": {},
   "outputs": [
    {
     "name": "stdout",
     "output_type": "stream",
     "text": [
      "['MLS', 'MLT', 'MLC', 'C/S', 'VP/T', 'C/T', 'DC/C', 'DC/T', 'T/S', 'CT/T', 'CP/T', 'CP/C', 'CN/T', 'CN/C', 'DC/S', 'CT/S', 'CP/S', 'VP/S', 'NP/S', 'PP/S', 'Avg_NP', 'Avg_PP', 'Avg_VP', 'Sbar/S', 'treeH/S', 'letter/W', 'awlF', 'aspw', 'NV', 'VV1', 'svv', 'cvv', 'advvv', 'adjvv', 'LD', 'ttr', 'rttr', 'cttr', 'bttr', 'uber', 'modvvv']\n",
      "['MLS', 'MLT', 'MLC', 'C/S', 'VP/T', 'C/T', 'DC/C', 'DC/T', 'T/S', 'CT/T', 'CP/T', 'CP/C', 'CN/T', 'CN/C', 'DC/S', 'CT/S', 'CP/S', 'VP/S', 'NP/S', 'PP/S', 'Avg_NP', 'Avg_PP', 'Avg_VP', 'Sbar/S', 'treeH/S', 'letter/W', 'awlF', 'aspw', 'NV', 'VV1', 'svv', 'cvv', 'advvv', 'adjvv', 'LD', 'ttr', 'rttr', 'cttr', 'bttr', 'uber', 'modvvv']\n",
      "['MLS', 'MLT', 'MLC', 'C/S', 'VP/T', 'C/T', 'DC/C', 'DC/T', 'T/S', 'CT/T', 'CP/T', 'CP/C', 'CN/T', 'CN/C', 'DC/S', 'CT/S', 'CP/S', 'VP/S', 'NP/S', 'PP/S', 'Avg_NP', 'Avg_PP', 'Avg_VP', 'Sbar/S', 'treeH/S', 'letter/W', 'awlF', 'aspw', 'NV', 'VV1', 'svv', 'cvv', 'advvv', 'adjvv', 'LD', 'ttr', 'rttr', 'cttr', 'bttr', 'uber', 'modvvv']\n"
     ]
    }
   ],
   "source": [
    "#  0:fframe, 1:daloNikalo, 2:SLASyntax, 3:otherSyntax,\n",
    "#  4:totalSyntax, 5:diffWord, 6:traditionalFeatures,\n",
    "#  7:traditionalFormulas, 8:tradionalData, 9:otherFormula,\n",
    "#  10:onlyFormulas, 11:lexicalFeatures, 12:otherLexF, 13:totLexF, 14:totalF]\n",
    "Tr = setCreator(tr)\n",
    "Ts = setCreator(ts)\n",
    "Vl = setCreator(v)\n",
    "\n",
    "selectSet = 0\n",
    "trainData = Tr[selectSet]\n",
    "valData = Vl[selectSet]\n",
    "tsData = Ts[selectSet]\n",
    "\n",
    "wholeData = [trainData,valData,tsData]\n",
    "#trainData"
   ]
  },
  {
   "cell_type": "code",
   "execution_count": 156,
   "metadata": {},
   "outputs": [],
   "source": [
    "## The SVM : http://scikit-learn.org/stable/modules/svm.html\n",
    "#Logistic Regression \n",
    "## http://scikit-learn.org/stable/modules/generated/sklearn.linear_model.LogisticRegression.html\n",
    "##MLP \n",
    "#http://scikit-learn.org/stable/modules/generated/sklearn.neural_network.MLPClassifier.html\n",
    "m1 = svm.SVC(C=5, cache_size=200, class_weight=None, coef0=10,\n",
    "      decision_function_shape='ovr', degree=2, gamma=\"auto\", kernel='poly',\n",
    "      max_iter=-1, probability=False, random_state=None, shrinking=False,\n",
    "      tol=0.001, verbose=False)\n",
    "    \n",
    "\n",
    "\n",
    "\n",
    "m2 = linear_model.LogisticRegression(C=1.0, class_weight=None, dual=False, fit_intercept=True,\n",
    "          intercept_scaling=1, max_iter=100, multi_class='ovr', n_jobs=1,\n",
    "          penalty='l2', random_state=1234, solver='liblinear', tol=0.0001,\n",
    "          verbose=0, warm_start=False)\n",
    "\n",
    "m3 = MLPClassifier(activation='logistic', alpha=0.01, batch_size='auto', beta_1=0.9,\n",
    "       beta_2=0.999, early_stopping=False, epsilon=1e-08,\n",
    "       hidden_layer_sizes=(30,), learning_rate='adaptive',\n",
    "       learning_rate_init=0.001, max_iter=100000, momentum=0.9,\n",
    "       nesterovs_momentum=True, power_t=0.5, random_state=None,\n",
    "       shuffle=True, solver='sgd', tol=0.0001, validation_fraction=0.1,\n",
    "       verbose=False, warm_start=False)"
   ]
  },
  {
   "cell_type": "code",
   "execution_count": 157,
   "metadata": {},
   "outputs": [],
   "source": [
    "(m3,trAcc,valAcc,t1Data) = trainVal(m3,wholeData,Wholelabels)"
   ]
  },
  {
   "cell_type": "code",
   "execution_count": 158,
   "metadata": {},
   "outputs": [
    {
     "data": {
      "text/plain": [
       "(0.758, 0.7931034482758621)"
      ]
     },
     "execution_count": 158,
     "metadata": {},
     "output_type": "execute_result"
    }
   ],
   "source": [
    "trAcc,valAcc"
   ]
  },
  {
   "cell_type": "code",
   "execution_count": 159,
   "metadata": {},
   "outputs": [
    {
     "data": {
      "text/plain": [
       "0.77"
      ]
     },
     "execution_count": 159,
     "metadata": {},
     "output_type": "execute_result"
    }
   ],
   "source": [
    "(sum(testLabel == m3.predict(t1Data)))/len(testLabel)"
   ]
  },
  {
   "cell_type": "code",
   "execution_count": 189,
   "metadata": {},
   "outputs": [],
   "source": [
    "# tra = []\n",
    "# va = []\n",
    "# gval = [0.0001,0.001,0.01,0.1,1,10]\n",
    "# for par in [0.001,0.01,0.1,1,5,10,20,50,60]:\n",
    "#     m1 = svm.SVC(C=10, cache_size=200, class_weight=None, coef0=10,\n",
    "#       decision_function_shape='ovr', degree=3, gamma=par, kernel='poly',\n",
    "#       max_iter=-1, probability=False, random_state=None, shrinking=False,\n",
    "#       tol=0.001, verbose=False)\n",
    "#     (m1,trAcc,valAcc,t1Data) = trainVal(m1,wholeData,Wholelabels)\n",
    "    \n",
    "#     tra.append(trAcc)\n",
    "#     va.append(valAcc)"
   ]
  },
  {
   "cell_type": "code",
   "execution_count": null,
   "metadata": {},
   "outputs": [],
   "source": [
    "va"
   ]
  },
  {
   "cell_type": "code",
   "execution_count": 508,
   "metadata": {},
   "outputs": [
    {
     "data": {
      "image/png": "[encoded data removed]",
      "text/plain": [
       "<Figure size 432x288 with 1 Axes>"
      ]
     },
     "metadata": {},
     "output_type": "display_data"
    }
   ],
   "source": [
    "f = plt.figure()\n",
    "plt.plot(gval,tra,label=\"traning\")\n",
    "plt.plot(gval,va,label=\"traning\")\n",
    "#plt.plot(x,y5,label=n5)\n",
    "# plt.plot(x,y6,label=n6)\n",
    "# plt.plot(x,y7,label=n7)\n",
    "\n",
    "\n",
    "plt.xlabel('epochs')\n",
    "plt.ylabel('Accuracy')\n",
    "plt.title('Learning Rates')\n",
    "plt.grid()\n",
    "plt.legend()\n",
    "plt.show()\n",
    "f.savefig(\"gamma.pdf\", bbox_inches='tight')"
   ]
  }
 ],
 "metadata": {
  "kernelspec": {
   "display_name": "Python 3",
   "language": "python",
   "name": "python3"
  },
  "language_info": {
   "codemirror_mode": {
    "name": "ipython",
    "version": 3
   },
   "file_extension": ".py",
   "mimetype": "text/x-python",
   "name": "python",
   "nbconvert_exporter": "python",
   "pygments_lexer": "ipython3",
   "version": "3.6.4"
  }
 },
 "nbformat": 4,
 "nbformat_minor": 2
}
